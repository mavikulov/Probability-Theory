{
 "cells": [
  {
   "cell_type": "markdown",
   "metadata": {},
   "source": [
    "## Вариант №3"
   ]
  },
  {
   "cell_type": "code",
   "execution_count": 14,
   "metadata": {},
   "outputs": [
    {
     "name": "stderr",
     "output_type": "stream",
     "text": [
      "C:\\Users\\maxon\\AppData\\Local\\Temp\\ipykernel_13972\\3211259652.py:8: MatplotlibDeprecationWarning: The seaborn styles shipped by Matplotlib are deprecated since 3.6, as they no longer correspond to the styles shipped by seaborn. However, they will remain available as 'seaborn-v0_8-<style>'. Alternatively, directly use the seaborn API instead.\n",
      "  plt.style.use('seaborn')\n"
     ]
    }
   ],
   "source": [
    "import matplotlib.pyplot as plt\n",
    "from statistics import median\n",
    "from random import random\n",
    "import pandas as pd\n",
    "import numpy as np\n",
    "import math\n",
    "%matplotlib inline\n",
    "plt.style.use('seaborn')"
   ]
  },
  {
   "cell_type": "code",
   "execution_count": 15,
   "metadata": {},
   "outputs": [],
   "source": [
    "def model():\n",
    "    x = 0\n",
    "    while True:\n",
    "        sv = random()\n",
    "        x += 1\n",
    "        if sv < p:\n",
    "            break\n",
    "    return x\n",
    "\n",
    "\n",
    "def get_mo(p, lst):\n",
    "    E, E2 = 0, 0\n",
    "    for el in lst:\n",
    "        E += p * el\n",
    "    for el in lst:\n",
    "        E2 += p * (el ** 2)\n",
    "    return E, E2\n",
    "\n",
    "\n",
    "def get_sample_mean(n, lst):\n",
    "    return (1/n) * sum(lst)\n",
    "\n",
    "\n",
    "def get_sample_variance(n, lst, x):\n",
    "    res = 0\n",
    "    for el in lst:\n",
    "        res += (el - x) ** 2\n",
    "    return (1/n)*res\n",
    "\n",
    "\n",
    "def get_median(n, lst):\n",
    "    if n % 2 == 1:\n",
    "        return lst[len(lst)//2+1]\n",
    "    return lst[len(lst)//2]\n",
    "\n",
    "def sum_raspr(i, y_lst, y_values):\n",
    "    return sum([y_values[j] for j in range(len(y_lst)) if y_lst[j] <= i])\n",
    "\n",
    "def get_q(interval, y_lst, p):\n",
    "    q = 0\n",
    "    for i in range(len(y_lst)):\n",
    "        if y_lst[i] >= interval[0] and y_lst[i] < interval[1]:\n",
    "            q += p[i]\n",
    "    return q\n",
    "\n",
    "def get_nj(interval, y_lst, y_values):\n",
    "    nj = 0\n",
    "    for i in range(len(y_lst)):\n",
    "        if y_lst[i] >= interval[0] and y_lst[i] < interval[1]:\n",
    "            nj += y_values[i]\n",
    "    return nj\n",
    "\n",
    "def get_y_dict(n):\n",
    "    y_dict = dict()\n",
    "\n",
    "    for i in range(n):\n",
    "        x = model()\n",
    "        if x not in y_dict.keys():\n",
    "            y_dict[x] = 1\n",
    "        else:\n",
    "            y_dict[x] += 1\n",
    "    return y_dict\n",
    "\n",
    "def get_y(n):\n",
    "    y_dict = get_y_dict(n)\n",
    "    y_lst = sorted(y_dict.keys())\n",
    "    y_values = [y_dict[y_lst[i]] for i in range(len(y_lst))]\n",
    "    return y_dict, y_lst, y_values"
   ]
  },
  {
   "cell_type": "code",
   "execution_count": 18,
   "metadata": {},
   "outputs": [
    {
     "name": "stdout",
     "output_type": "stream",
     "text": [
      "\n",
      "Введите вероятность\n",
      "0.2\n",
      "\n",
      "Введите количество экспериментов\n",
      "100\n"
     ]
    }
   ],
   "source": [
    "p = float(input(\"\\nВведите вероятность\\n\"))\n",
    "n = int(input(\"\\nВведите количество экспериментов\\n\"))\n",
    "y_dict, y_lst, y_values = get_y(n)"
   ]
  },
  {
   "cell_type": "code",
   "execution_count": 19,
   "metadata": {},
   "outputs": [
    {
     "name": "stdout",
     "output_type": "stream",
     "text": [
      "Введите количество точек5\n",
      "Введите Z13\n",
      "Введите Z25\n",
      "Введите Z37\n",
      "Введите Z415\n",
      "Введите Z529\n"
     ]
    }
   ],
   "source": [
    "k = int(input(\"Введите количество точек\"))\n",
    "z = [float(\"-inf\")]\n",
    "for i in range(k):\n",
    "    z.append(float(input(f\"Введите Z{i+1}\")))\n",
    "z.append(float(\"inf\"))"
   ]
  },
  {
   "cell_type": "code",
   "execution_count": 20,
   "metadata": {},
   "outputs": [
    {
     "name": "stdout",
     "output_type": "stream",
     "text": [
      "Введите уровень значимости альфа0.03\n",
      "Количество отвергнутых гипотез Н0 о геометрическом распределении = 31\n",
      "Количество принятых гипотез Н0 о геометрическом распределении = 69\n",
      "\n",
      "Введите уровень значимости альфа0.05\n",
      "Количество отвергнутых гипотез Н0 о геометрическом распределении = 37\n",
      "Количество принятых гипотез Н0 о геометрическом распределении = 63\n",
      "\n",
      "Введите уровень значимости альфа0.1\n",
      "Количество отвергнутых гипотез Н0 о геометрическом распределении = 47\n",
      "Количество принятых гипотез Н0 о геометрическом распределении = 53\n",
      "\n"
     ]
    }
   ],
   "source": [
    "def get_R0(y_lst, y_values, z, n, p):\n",
    "    P_lst = []\n",
    "    for i in range(len(y_lst)):\n",
    "        P = p * ((1 - p) ** (y_lst[i] - 1))\n",
    "        P_lst.append(P)\n",
    "    q = []\n",
    "    n_lst = []\n",
    "    for i in range(len(z)-1):\n",
    "        q.append(get_q((z[i], z[i+1]), y_lst, P_lst))\n",
    "        n_lst.append(get_nj((z[i], z[i+1]), y_lst, y_values))\n",
    "    R0 = 0\n",
    "    for j in range(len(q)):\n",
    "        try:\n",
    "            R0 += ((n_lst[j] - n*q[j]) ** 2) / (n*q[j])\n",
    "        except ZeroDivisionError:\n",
    "            pass\n",
    "    return R0\n",
    "\n",
    "\n",
    "R0_lst = []\n",
    "for i in range(100):\n",
    "    y_dict, y_lst, y_values = get_y(n)\n",
    "    R0_lst.append(get_R0(y_lst, y_values, z, n, p))\n",
    "\n",
    "    \n",
    "def hypothesis(p):\n",
    "    alpha = float(input(\"Введите уровень значимости альфа\"))\n",
    "    def get_integr(a, b):\n",
    "        r = k\n",
    "        def func(z):\n",
    "            try:\n",
    "                return (z**(0.5*r-1)).real * math.exp(-0.5*z) * (math.gamma(0.5*r) ** (-1)) * (2 ** (-0.5*r))\n",
    "            except ZeroDivisionError:\n",
    "                return 0\n",
    "        razb = 1000\n",
    "        res = sum([(func(a+(b-a)*((k-1)/razb)) + func(a+(b-a)*(k/razb)))*((b-a)/(2*razb)) for k in range(razb)])\n",
    "        return res\n",
    "    f = [get_integr(0, el) for el in R0_lst]\n",
    "    reject = [0 for j in f if j.real >= 1 - alpha]\n",
    "    accept = [1 for j in f if j.real < 1 - alpha]\n",
    "\n",
    "    print(f\"Количество отвергнутых гипотез Н0 о геометрическом распределении = {len(reject)}\")\n",
    "    print(f\"Количество принятых гипотез Н0 о геометрическом распределении = {len(accept)}\\n\")\n",
    "\n",
    "for i in range(3):\n",
    "    hypothesis(p)"
   ]
  },
  {
   "cell_type": "code",
   "execution_count": null,
   "metadata": {},
   "outputs": [],
   "source": []
  }
 ],
 "metadata": {
  "kernelspec": {
   "display_name": "Python 3 (ipykernel)",
   "language": "python",
   "name": "python3"
  },
  "language_info": {
   "codemirror_mode": {
    "name": "ipython",
    "version": 3
   },
   "file_extension": ".py",
   "mimetype": "text/x-python",
   "name": "python",
   "nbconvert_exporter": "python",
   "pygments_lexer": "ipython3",
   "version": "3.10.5"
  },
  "vscode": {
   "interpreter": {
    "hash": "b84239f33e5ba699e9f1119b54a1048d39772d39d1e500770e5cdfc15530fd7c"
   }
  }
 },
 "nbformat": 4,
 "nbformat_minor": 2
}
