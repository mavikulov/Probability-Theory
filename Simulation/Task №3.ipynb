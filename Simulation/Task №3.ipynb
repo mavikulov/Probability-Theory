{
 "cells": [
  {
   "cell_type": "code",
   "execution_count": 1,
   "id": "75dba668",
   "metadata": {},
   "outputs": [],
   "source": [
    "from random import random\n",
    "import numpy as np\n",
    "import math"
   ]
  },
  {
   "cell_type": "code",
   "execution_count": 2,
   "id": "5db9be3f",
   "metadata": {},
   "outputs": [],
   "source": [
    "def model():\n",
    "    x = 0\n",
    "    while True:\n",
    "        sv = random()\n",
    "        x += 1\n",
    "        if sv < p:\n",
    "            break\n",
    "    return x\n",
    "\n",
    "\n",
    "def get_q(interval, y_lst, p):\n",
    "    q = 0\n",
    "    for i in range(len(y_lst)):\n",
    "        if y_lst[i] >= interval[0] and y_lst[i] < interval[1]:\n",
    "            q += p[i]\n",
    "    return q\n",
    "\n",
    "def get_nj(interval, y_lst, y_values):\n",
    "    nj = 0\n",
    "    for i in range(len(y_lst)):\n",
    "        if y_lst[i] >= interval[0] and y_lst[i] < interval[1]:\n",
    "            nj += y_values[i]\n",
    "    return nj\n",
    "\n",
    "def get_y_dict(n):\n",
    "    y_dict = dict()\n",
    "\n",
    "    for i in range(n):\n",
    "        x = model()\n",
    "        if x not in y_dict.keys():\n",
    "            y_dict[x] = 1\n",
    "        else:\n",
    "            y_dict[x] += 1\n",
    "    return y_dict\n",
    "\n",
    "def get_y(n):\n",
    "    y_dict = get_y_dict(n)\n",
    "    y_lst = sorted(y_dict.keys())\n",
    "    y_values = [y_dict[y_lst[i]] for i in range(len(y_lst))]\n",
    "    return y_dict, y_lst, y_values"
   ]
  },
  {
   "cell_type": "code",
   "execution_count": 9,
   "id": "e46c9daa",
   "metadata": {},
   "outputs": [
    {
     "name": "stdout",
     "output_type": "stream",
     "text": [
      "\n",
      "Введите вероятность\n",
      "0.3\n",
      "\n",
      "Введите количество экспериментов\n",
      "10000\n"
     ]
    }
   ],
   "source": [
    "p = float(input(\"\\nВведите вероятность\\n\"))\n",
    "n = int(input(\"\\nВведите количество экспериментов\\n\"))\n",
    "y_dict, y_lst, y_values = get_y(n)"
   ]
  },
  {
   "cell_type": "code",
   "execution_count": 10,
   "id": "50a09556",
   "metadata": {},
   "outputs": [
    {
     "name": "stdout",
     "output_type": "stream",
     "text": [
      "Введите количество точек: 9\n",
      "Введите z1 = 1\n",
      "Введите z2 = 4\n",
      "Введите z3 = 6\n",
      "Введите z4 = 8\n",
      "Введите z5 = 9\n",
      "Введите z6 = 10\n",
      "Введите z7 = 23\n",
      "Введите z8 = 4\n",
      "Введите z9 = 1\n",
      "Интервалы разбиения:  [-inf, 1.0, 4.0, 6.0, 8.0, 9.0, 10.0, 23.0, 4.0, 1.0, inf]\n"
     ]
    }
   ],
   "source": [
    "k = int(input(\"Введите количество точек: \"))\n",
    "z = [float(\"-inf\")]\n",
    "for i in range(k):\n",
    "    z.append(float(input(f\"Введите z{i+1} = \")))\n",
    "z.append(float(\"inf\"))\n",
    "print(\"Интервалы разбиения: \", z)"
   ]
  },
  {
   "cell_type": "code",
   "execution_count": 11,
   "id": "9dbd8f37",
   "metadata": {},
   "outputs": [
    {
     "name": "stdout",
     "output_type": "stream",
     "text": [
      "Введите уровень значимости α = 0.05\n",
      "Количество отвергнутых гипотез Н0 о геометрическом распределении = 1\n",
      "Количество принятых гипотез Н0 о геометрическом распределении = 99\n",
      "\n",
      "Введите уровень значимости α = 0.01\n",
      "Количество отвергнутых гипотез Н0 о геометрическом распределении = 0\n",
      "Количество принятых гипотез Н0 о геометрическом распределении = 100\n",
      "\n",
      "Введите уровень значимости α = 0.55\n",
      "Количество отвергнутых гипотез Н0 о геометрическом распределении = 11\n",
      "Количество принятых гипотез Н0 о геометрическом распределении = 89\n",
      "\n"
     ]
    }
   ],
   "source": [
    "def get_R0(y_lst, y_values, z, n, p):\n",
    "    P_lst = []\n",
    "    for i in range(len(y_lst)):\n",
    "        P = p * ((1 - p) ** (y_lst[i] - 1))\n",
    "        P_lst.append(P)\n",
    "    q = []\n",
    "    n_lst = []\n",
    "    for i in range(len(z)-1):\n",
    "        q.append(get_q((z[i], z[i+1]), y_lst, P_lst))\n",
    "        n_lst.append(get_nj((z[i], z[i+1]), y_lst, y_values))\n",
    "    R0 = 0\n",
    "    for j in range(len(q)):\n",
    "        try:\n",
    "            R0 += ((n_lst[j] - n*q[j]) ** 2) / (n*q[j])\n",
    "        except ZeroDivisionError:\n",
    "            pass\n",
    "    return R0\n",
    "\n",
    "\n",
    "R0_lst = []\n",
    "for i in range(100):\n",
    "    y_dict, y_lst, y_values = get_y(n)\n",
    "    R0_lst.append(get_R0(y_lst, y_values, z, n, p))\n",
    "\n",
    "    \n",
    "def hypothesis(p):\n",
    "    alpha = float(input(\"Введите уровень значимости α = \"))\n",
    "    def get_integr(a, b):\n",
    "        r = k\n",
    "        def func(z):\n",
    "            try:\n",
    "                return (z**(0.5*r-1)).real * math.exp(-0.5*z) * (math.gamma(0.5*r) ** (-1)) * (2 ** (-0.5*r))\n",
    "            except ZeroDivisionError:\n",
    "                return 0\n",
    "        razb = 1000\n",
    "        res = sum([(func(a+(b-a)*((k-1)/razb)) + func(a+(b-a)*(k/razb)))*((b-a)/(2*razb)) for k in range(razb)])\n",
    "        return res\n",
    "    f = [get_integr(0, el) for el in R0_lst]\n",
    "    reject = [0 for j in f if j.real >= 1 - alpha]\n",
    "    accept = [1 for j in f if j.real < 1 - alpha]\n",
    "\n",
    "    print(f\"Количество отвергнутых гипотез Н0 о геометрическом распределении = {len(reject)}\")\n",
    "    print(f\"Количество принятых гипотез Н0 о геометрическом распределении = {len(accept)}\\n\")\n",
    "\n",
    "for i in range(3):\n",
    "    hypothesis(p)"
   ]
  },
  {
   "cell_type": "code",
   "execution_count": null,
   "id": "e56343fe",
   "metadata": {},
   "outputs": [],
   "source": []
  }
 ],
 "metadata": {
  "kernelspec": {
   "display_name": "Python 3 (ipykernel)",
   "language": "python",
   "name": "python3"
  },
  "language_info": {
   "codemirror_mode": {
    "name": "ipython",
    "version": 3
   },
   "file_extension": ".py",
   "mimetype": "text/x-python",
   "name": "python",
   "nbconvert_exporter": "python",
   "pygments_lexer": "ipython3",
   "version": "3.10.5"
  }
 },
 "nbformat": 4,
 "nbformat_minor": 5
}
